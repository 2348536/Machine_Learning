{
  "nbformat": 4,
  "nbformat_minor": 0,
  "metadata": {
    "colab": {
      "provenance": [],
      "mount_file_id": "1SJxbGEHqWn09kINvy0XL5l-n4_auZZSE",
      "authorship_tag": "ABX9TyPaHVqYsax08N31UX2skgq0",
      "include_colab_link": true
    },
    "kernelspec": {
      "name": "python3",
      "display_name": "Python 3"
    },
    "language_info": {
      "name": "python"
    }
  },
  "cells": [
    {
      "cell_type": "markdown",
      "metadata": {
        "id": "view-in-github",
        "colab_type": "text"
      },
      "source": [
        "<a href=\"https://colab.research.google.com/github/2348536/Machine_Learning/blob/main/ML_LAB9.ipynb\" target=\"_parent\"><img src=\"https://colab.research.google.com/assets/colab-badge.svg\" alt=\"Open In Colab\"/></a>"
      ]
    },
    {
      "cell_type": "code",
      "execution_count": null,
      "metadata": {
        "id": "HSZIqki-u7mK"
      },
      "outputs": [],
      "source": [
        "import numpy as np\n",
        "import pandas as pd\n",
        "import matplotlib.pyplot as plt\n",
        "from sklearn.model_selection import train_test_split\n",
        "from sklearn.metrics import accuracy_score"
      ]
    },
    {
      "cell_type": "code",
      "source": [
        "import os\n",
        "import cv2\n",
        "\n",
        "path =\n",
        "classes = {'no_tumor': 0, 'pituitary_tumor': 1, 'glioma_tumor':2,'meningioma_tumor':3}\n",
        "X = []\n",
        "Y = []\n",
        "\n",
        "for cls in classes:\n",
        "    pth = os.path.join(path, cls)\n",
        "    for j in os.listdir(pth):\n",
        "        img = cv2.imread(os.path.join(pth, j), 0)\n",
        "        img = cv2.resize(img, (200, 200))\n",
        "        X.append(img)\n",
        "        Y.append(classes[cls])"
      ],
      "metadata": {
        "id": "7L_gts9Dv-1s"
      },
      "execution_count": null,
      "outputs": []
    },
    {
      "cell_type": "code",
      "source": [
        "X = np.array(X)\n",
        "Y = np.array(Y)\n",
        "pd.Series(Y).value_counts().plot(kind=\"bar\")"
      ],
      "metadata": {
        "id": "0YChmUAGv-4F"
      },
      "execution_count": null,
      "outputs": []
    },
    {
      "cell_type": "code",
      "source": [
        "X_updated = X.reshape(len(X), -1)\n",
        "X.shape, X_updated.shape"
      ],
      "metadata": {
        "id": "LqU5FfBWv-6k"
      },
      "execution_count": null,
      "outputs": []
    },
    {
      "cell_type": "code",
      "source": [
        "plt.imshow(X[0], cmap='gray')"
      ],
      "metadata": {
        "id": "r6JmSKhCv-9O"
      },
      "execution_count": null,
      "outputs": []
    },
    {
      "cell_type": "code",
      "source": [
        "xtrain, xtest, ytrain, ytest = train_test_split(X_updated, Y, random_state=10,test_size=.20)"
      ],
      "metadata": {
        "id": "ToLlE9SJv-_0"
      },
      "execution_count": null,
      "outputs": []
    },
    {
      "cell_type": "code",
      "source": [
        "xtrain.shape, xtest.shape"
      ],
      "metadata": {
        "id": "0MPNEDCJv_DR"
      },
      "execution_count": null,
      "outputs": []
    },
    {
      "cell_type": "code",
      "source": [
        "print(xtrain.max(), xtrain.min())\n",
        "print(xtest.max(), xtest.min())\n",
        "xtrain = xtrain/255\n",
        "xtest = xtest/255\n",
        "print(xtrain.max(), xtrain.min())\n",
        "print(xtest.max(), xtest.min())"
      ],
      "metadata": {
        "id": "3JXzKUQm6TbZ"
      },
      "execution_count": null,
      "outputs": []
    },
    {
      "cell_type": "code",
      "source": [
        "from sklearn.svm import SVC\n",
        "sv = SVC(kernel='linear')\n",
        "sv.fit(xtrain, ytrain)"
      ],
      "metadata": {
        "id": "w6M6FrP36Tdv"
      },
      "execution_count": null,
      "outputs": []
    },
    {
      "cell_type": "code",
      "source": [
        "print(\"Training Score:\", sv.score(xtrain, ytrain))\n",
        "print(\"Testing Score:\", sv.score(xtest, ytest))"
      ],
      "metadata": {
        "id": "5oftSGVP6Tf7"
      },
      "execution_count": null,
      "outputs": []
    },
    {
      "cell_type": "code",
      "source": [
        "pred = sv.predict(xtest)\n",
        "misclassified=np.where(ytest!=pred)\n",
        "misclassified"
      ],
      "metadata": {
        "id": "ZmwsLOu46Tik"
      },
      "execution_count": null,
      "outputs": []
    },
    {
      "cell_type": "code",
      "source": [
        "dec = {0:'No Tumor', 1:'Pituitary Tumor',2:'Glioma Tumor',3:'Meningioma Tumor'}"
      ],
      "metadata": {
        "id": "T0azvYxF6TmF"
      },
      "execution_count": null,
      "outputs": []
    },
    {
      "cell_type": "code",
      "source": [
        "plt.figure(figsize=(12,8))\n",
        "c=1\n",
        "path=\n",
        "for i in os.listdir(path)[:9]:\n",
        "  img=cv2.imread(os.path.join(path,i),0)\n",
        "  if img is not None:\n",
        "    p=sv.predict(cv2.resize(img,(200,200)).reshape(1,-1)/255)\n",
        "    plt.subplot(3,3,c)\n",
        "    plt.title(dec.get(p[0],'UnKnown'))\n",
        "    plt.imshow(img,cmap='gray')\n",
        "    plt.axis('off')\n",
        "    c+=1\n",
        "  else:\n",
        "    print(f\"Fail to load image:{i}\")\n",
        "    plt.show()"
      ],
      "metadata": {
        "id": "rW_islOm6mcl"
      },
      "execution_count": null,
      "outputs": []
    },
    {
      "cell_type": "code",
      "source": [
        "plt.figure(figsize=(12,8))\n",
        "c=1\n",
        "path=\n",
        "for i in os.listdir(path)[:30]:\n",
        "  img=cv2.imread(os.path.join(path,i),0)\n",
        "  if img is not None:\n",
        "    p=sv.predict(cv2.resize(img,(200,200)).reshape(1,-1)/255)\n",
        "    plt.subplot(5,6,c)\n",
        "    plt.title(dec.get(p[0],'UnKnown'))\n",
        "    plt.imshow(img,cmap='gray')\n",
        "    plt.axis('off')\n",
        "    c+=1\n",
        "  else:\n",
        "    print(f'Failed to Load Image:{i}')\n",
        "    plt.show()"
      ],
      "metadata": {
        "id": "qcxOwWBb6mhy"
      },
      "execution_count": null,
      "outputs": []
    },
    {
      "cell_type": "code",
      "source": [
        "plt.figure(figsize=(12,8))\n",
        "c=1\n",
        "path=\n",
        "for i in os.listdir(path)[:30]:\n",
        "  img=cv2.imread(os.path.join(path,i),0)\n",
        "  if img is not None:\n",
        "    p=sv.predict(cv2.resize(img,(200,200)).reshape(1,-1)/255)\n",
        "    plt.subplot(5,6,c)\n",
        "    plt.title(dec.get(p[0],'UnKnown'))\n",
        "    plt.imshow(img,cmap='gray')\n",
        "    plt.axis('off')\n",
        "    c+=1\n",
        "  else:\n",
        "    print(f'Failed to Load Image:{i}')\n",
        "    plt.show()"
      ],
      "metadata": {
        "id": "_dZ-2PjP6mkN"
      },
      "execution_count": null,
      "outputs": []
    },
    {
      "cell_type": "code",
      "source": [
        "plt.figure(figsize=(12,8))\n",
        "c=1\n",
        "path=\n",
        "for i in os.listdir(path)[:30]:\n",
        "  img=cv2.imread(os.path.join(path,i),0)\n",
        "  if img is not None:\n",
        "    p=sv.predict(cv2.resize(img,(200,200)).reshape(1,-1)/255)\n",
        "    plt.subplot(5,6,c)\n",
        "    plt.title(dec.get(p[0],'UnKnown'))\n",
        "    plt.imshow(img,cmap='gray')\n",
        "    plt.axis('off')\n",
        "    c+=1\n",
        "  else:\n",
        "    print(f'Failed to Load Image:{i}')\n",
        "    plt.show()"
      ],
      "metadata": {
        "id": "aIZY2FUo6mmd"
      },
      "execution_count": null,
      "outputs": []
    },
    {
      "cell_type": "code",
      "source": [
        "from sklearn.metrics import classification_report\n",
        "classification=classification_report(ytest,pred)\n",
        "print(classification)"
      ],
      "metadata": {
        "id": "Pu5jRl5J7Agw"
      },
      "execution_count": null,
      "outputs": []
    },
    {
      "cell_type": "code",
      "source": [
        "from sklearn.metrics import confusion_matrix\n",
        "matrix=confusion_matrix(ytest,pred)\n",
        "matrix\n"
      ],
      "metadata": {
        "id": "bGQoK-3O7AjL"
      },
      "execution_count": null,
      "outputs": []
    },
    {
      "cell_type": "code",
      "source": [
        "cm_df = pd.DataFrame(matrix,\n",
        "                     index = ['NT','PT','GT','MT'],\n",
        "                     columns = ['NT','PT','GT','MT'])\n",
        "plt.figure(figsize=(10,8))\n",
        "sns.heatmap(cm_df, annot=True,cmap='Blues')\n",
        "plt.title('Confusion Matrix')\n",
        "plt.ylabel('Actal Values')\n",
        "plt.xlabel('Predicted Values')\n",
        "plt.show()"
      ],
      "metadata": {
        "id": "uQEaA7rz7Amg"
      },
      "execution_count": null,
      "outputs": []
    },
    {
      "cell_type": "code",
      "source": [],
      "metadata": {
        "id": "5_oe_I2D6mqA"
      },
      "execution_count": null,
      "outputs": []
    },
    {
      "cell_type": "code",
      "source": [],
      "metadata": {
        "id": "86aTJ48r7UYd"
      },
      "execution_count": null,
      "outputs": []
    },
    {
      "cell_type": "code",
      "source": [],
      "metadata": {
        "id": "ovXIHLlX7UbX"
      },
      "execution_count": null,
      "outputs": []
    },
    {
      "cell_type": "code",
      "source": [],
      "metadata": {
        "id": "jI22-tVq7UeJ"
      },
      "execution_count": null,
      "outputs": []
    },
    {
      "cell_type": "code",
      "source": [],
      "metadata": {
        "id": "tV9TKcF87Uhn"
      },
      "execution_count": null,
      "outputs": []
    }
  ]
}